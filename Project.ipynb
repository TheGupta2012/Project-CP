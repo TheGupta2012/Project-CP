'''f=open("Random.txt","a+")
'''for k in range(2,500):
   ''' userarr[k-2]=k
'''for i in range(2,500):
   # current_user = userarr[i-2]
{
 "cells": [
  {
   "cell_type": "code",
   "execution_count": 3,
   "metadata": {},
   "outputs": [],
   "source": [
    "import pandas as pan\n",
    "import numpy as np\n",
    "import matplotlib.pyplot as plt"
   ]
  },
  {
   "cell_type": "code",
   "execution_count": 188,
   "metadata": {},
   "outputs": [],
   "source": [
    "ratings = pan.read_csv(r'C:\\Users\\my\\Desktop\\ratings.csv')\n",
    "current_user = 15\n",
    "f_frend,s_frend,t_frend,fo_frend = [],[],[],[]\n",
    "frend = []\n",
    "frend_dist_x = [0]\n",
    "frend_dist_y = [0]"
   ]
  },
  {
   "cell_type": "code",
   "execution_count": 45,
   "metadata": {},
   "outputs": [
    {
     "data": {
      "text/html": [
       "<div>\n",
       "<style scoped>\n",
       "    .dataframe tbody tr th:only-of-type {\n",
       "        vertical-align: middle;\n",
       "    }\n",
       "\n",
       "    .dataframe tbody tr th {\n",
       "        vertical-align: top;\n",
       "    }\n",
       "\n",
       "    .dataframe thead th {\n",
       "        text-align: right;\n",
       "    }\n",
       "</style>\n",
       "<table border=\"1\" class=\"dataframe\">\n",
       "  <thead>\n",
       "    <tr style=\"text-align: right;\">\n",
       "      <th></th>\n",
       "      <th>User_ID</th>\n",
       "      <th>Item_ID</th>\n",
       "      <th>Rating-value</th>\n",
       "    </tr>\n",
       "  </thead>\n",
       "  <tbody>\n",
       "    <tr>\n",
       "      <th>0</th>\n",
       "      <td>1</td>\n",
       "      <td>1</td>\n",
       "      <td>2.0</td>\n",
       "    </tr>\n",
       "    <tr>\n",
       "      <th>1</th>\n",
       "      <td>1</td>\n",
       "      <td>2</td>\n",
       "      <td>4.0</td>\n",
       "    </tr>\n",
       "    <tr>\n",
       "      <th>2</th>\n",
       "      <td>1</td>\n",
       "      <td>3</td>\n",
       "      <td>3.5</td>\n",
       "    </tr>\n",
       "    <tr>\n",
       "      <th>3</th>\n",
       "      <td>1</td>\n",
       "      <td>4</td>\n",
       "      <td>3.0</td>\n",
       "    </tr>\n",
       "    <tr>\n",
       "      <th>4</th>\n",
       "      <td>1</td>\n",
       "      <td>5</td>\n",
       "      <td>4.0</td>\n",
       "    </tr>\n",
       "  </tbody>\n",
       "</table>\n",
       "</div>"
      ],
      "text/plain": [
       "   User_ID  Item_ID  Rating-value\n",
       "0        1        1           2.0\n",
       "1        1        2           4.0\n",
       "2        1        3           3.5\n",
       "3        1        4           3.0\n",
       "4        1        5           4.0"
      ]
     },
     "execution_count": 45,
     "metadata": {},
     "output_type": "execute_result"
    }
   ],
   "source": [
    "ratings.head()"
   ]
  },
  {
   "cell_type": "code",
   "execution_count": 46,
   "metadata": {},
   "outputs": [],
   "source": [
    "trust = pan.read_csv(r'C:\\Users\\my\\Desktop\\trust.csv')"
   ]
  },
  {
   "cell_type": "code",
   "execution_count": 47,
   "metadata": {},
   "outputs": [
    {
     "data": {
      "text/html": [
       "<div>\n",
       "<style scoped>\n",
       "    .dataframe tbody tr th:only-of-type {\n",
       "        vertical-align: middle;\n",
       "    }\n",
       "\n",
       "    .dataframe tbody tr th {\n",
       "        vertical-align: top;\n",
       "    }\n",
       "\n",
       "    .dataframe thead th {\n",
       "        text-align: right;\n",
       "    }\n",
       "</style>\n",
       "<table border=\"1\" class=\"dataframe\">\n",
       "  <thead>\n",
       "    <tr style=\"text-align: right;\">\n",
       "      <th></th>\n",
       "      <th>User_ID(trustor)</th>\n",
       "      <th>User_ID(trustee)</th>\n",
       "      <th>Trust_value</th>\n",
       "    </tr>\n",
       "  </thead>\n",
       "  <tbody>\n",
       "    <tr>\n",
       "      <th>0</th>\n",
       "      <td>2</td>\n",
       "      <td>966</td>\n",
       "      <td>1</td>\n",
       "    </tr>\n",
       "    <tr>\n",
       "      <th>1</th>\n",
       "      <td>2</td>\n",
       "      <td>104</td>\n",
       "      <td>1</td>\n",
       "    </tr>\n",
       "    <tr>\n",
       "      <th>2</th>\n",
       "      <td>5</td>\n",
       "      <td>1509</td>\n",
       "      <td>1</td>\n",
       "    </tr>\n",
       "    <tr>\n",
       "      <th>3</th>\n",
       "      <td>6</td>\n",
       "      <td>1192</td>\n",
       "      <td>1</td>\n",
       "    </tr>\n",
       "    <tr>\n",
       "      <th>4</th>\n",
       "      <td>7</td>\n",
       "      <td>1510</td>\n",
       "      <td>1</td>\n",
       "    </tr>\n",
       "  </tbody>\n",
       "</table>\n",
       "</div>"
      ],
      "text/plain": [
       "   User_ID(trustor)  User_ID(trustee)  Trust_value\n",
       "0                 2               966            1\n",
       "1                 2               104            1\n",
       "2                 5              1509            1\n",
       "3                 6              1192            1\n",
       "4                 7              1510            1"
      ]
     },
     "execution_count": 47,
     "metadata": {},
     "output_type": "execute_result"
    }
   ],
   "source": [
    "trust.head()"
   ]
  },
  {
   "cell_type": "code",
   "execution_count": 189,
   "metadata": {},
   "outputs": [],
   "source": [
    "for user in trust.index:\n",
    "    if (trust.loc[user, 'User_ID(trustor)']==[current_user]):\n",
    "        f_frend.append([trust.loc[user, 'User_ID(trustee)']])"
   ]
  },
  {
   "cell_type": "code",
   "execution_count": 190,
   "metadata": {},
   "outputs": [],
   "source": [
    "for i in range(0,len(f_frend)):\n",
    "    for user in trust.index:\n",
    "        if (trust.loc[user, 'User_ID(trustor)'] == [f_frend[i][0]] and trust.loc[user, 'User_ID(trustee)'] != [current_user]):\n",
    "            s_frend.append(trust.loc[user, 'User_ID(trustee)'])\n",
    "            f_frend[i].append([trust.loc[user, 'User_ID(trustee)']])\n",
    "for j in range(0,len(f_frend)):\n",
    "    for i in range(1,len(f_frend[j])):\n",
    "        for user in trust.index:\n",
    "            if(trust.loc[user,'User_ID(trustor)']==[f_frend[j][i][0]] and trust.loc[user,'User_ID(trustee)']!=[current_user]):\n",
    "                t_frend.append(trust.loc[user,'User_ID(trustee)'])\n",
    "                f_frend[j][i].append([trust.loc[user, 'User_ID(trustee)']])\n",
    "#for i in range(0,len(t_frend)):\n",
    " #   for user in trust.index:\n",
    "  #      if(trust.loc[user,'User_ID(trustor)']==[t_frend[i]] and trust.loc[user,'User_ID(trustee)']!=[current_user]):\n",
    "   #         fo_frend.append(trust.loc[user,'User_ID(trustee)'])"
   ]
  },
  {
   "cell_type": "code",
   "execution_count": 191,
   "metadata": {},
   "outputs": [
    {
     "data": {
      "text/plain": [
       "[[652],\n",
       " [883, [1033, [1518], [764], [938]], [849, [300], [402]]],\n",
       " [1511],\n",
       " [1512],\n",
       " [1239]]"
      ]
     },
     "execution_count": 191,
     "metadata": {},
     "output_type": "execute_result"
    }
   ],
   "source": [
    "f_frend"
   ]
  },
  {
   "cell_type": "code",
   "execution_count": 186,
   "metadata": {},
   "outputs": [
    {
     "data": {
      "text/plain": [
       "[1033, 849]"
      ]
     },
     "execution_count": 186,
     "metadata": {},
     "output_type": "execute_result"
    }
   ],
   "source": [
    "s_frend"
   ]
  },
  {
   "cell_type": "code",
   "execution_count": 187,
   "metadata": {},
   "outputs": [
    {
     "data": {
      "text/plain": [
       "[1518, 764, 938, 300, 402]"
      ]
     },
     "execution_count": 187,
     "metadata": {},
     "output_type": "execute_result"
    }
   ],
   "source": [
    "t_frend"
   ]
  },
  {
   "cell_type": "code",
   "execution_count": 175,
   "metadata": {},
   "outputs": [
    {
     "data": {
      "text/plain": [
       "[]"
      ]
     },
     "execution_count": 175,
     "metadata": {},
     "output_type": "execute_result"
    }
   ],
   "source": [
    "fo_frend"
   ]
  },
  {
   "cell_type": "code",
   "execution_count": 65,
   "metadata": {},
   "outputs": [],
   "source": [
    "for i in range(2):\n",
    "    for f in range(len(f_frend)):\n",
    "        frend_dist_x.append(1)\n",
    "        frend_dist_y.append(f)\n",
    "    for f in range(len(s_frend)):\n",
    "        frend_dist_x.append(2)\n",
    "        frend_dist_y.append(f)\n",
    "    for f in range(len(t_frend)):\n",
    "        frend_dist_x.append(3)\n",
    "        frend_dist_y.append(f)\n",
    "   # for f in range(len(fo_frend)):\n",
    "    #    frend_dist_x.append(4)\n",
    "     #   frend_dist_y.append(f)"
   ]
  },
  {
   "cell_type": "code",
   "execution_count": 66,
   "metadata": {},
   "outputs": [
    {
     "data": {
      "text/plain": [
       "<matplotlib.collections.PathCollection at 0x1e22638b3c8>"
      ]
     },
     "execution_count": 66,
     "metadata": {},
     "output_type": "execute_result"
    },
    {
     "data": {
      "image/png": "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\n",
      "text/plain": [
       "<Figure size 432x288 with 1 Axes>"
      ]
     },
     "metadata": {
      "needs_background": "light"
     },
     "output_type": "display_data"
    }
   ],
   "source": [
    "plt.scatter(frend_dist_x,frend_dist_y)"
   ]
  },
  {
   "cell_type": "code",
   "execution_count": 67,
   "metadata": {},
   "outputs": [],
   "source": [
    "suggestion=[]\n",
    "\n",
    "if(len(s_frend)+len(t_frend)<15):\n",
    "    for i in range(15-len(s_frend)-len(t_frend)):\n",
    "        suggestion.append(fo_frend[i])\n",
    "    suggestion=suggestion+s_frend+t_frend\n",
    "else:\n",
    "    suggestion=s_frend+t_frend\n"
   ]
  },
  {
   "cell_type": "code",
   "execution_count": 68,
   "metadata": {},
   "outputs": [
    {
     "data": {
      "text/plain": [
       "[488, 938, 402, 858, 300, 853, 300, 1033, 1033, 849, 1518, 764, 938, 300, 402]"
      ]
     },
     "execution_count": 68,
     "metadata": {},
     "output_type": "execute_result"
    }
   ],
   "source": [
    "suggestion"
   ]
  },
  {
   "cell_type": "code",
   "execution_count": null,
   "metadata": {},
   "outputs": [],
   "source": []
  }
 ],
 "metadata": {
  "kernelspec": {
   "display_name": "Python 3",
   "language": "python",
   "name": "python3"
  },
  "language_info": {
   "codemirror_mode": {
    "name": "ipython",
    "version": 3
   },
   "file_extension": ".py",
   "mimetype": "text/x-python",
   "name": "python",
   "nbconvert_exporter": "python",
   "pygments_lexer": "ipython3",
   "version": "3.7.3"
  }
 },
 "nbformat": 4,
 "nbformat_minor": 2
}
#accept=[]
 #for x in range(len(suggestion)):
  #      accept[x]=random.choice([0,1])
   #     f.write("%d \n" % (userarr[k]))
#for i in range (len(suggestion)):
 #   f.write("%d - %d\n" % (suggestion[i],accept[i]))
